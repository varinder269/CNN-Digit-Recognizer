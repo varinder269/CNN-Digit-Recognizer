{
 "cells": [
  {
   "cell_type": "markdown",
   "metadata": {},
   "source": [
    "# Digit Recognizer Using Convolutional Neural Networks\n",
    "---"
   ]
  },
  {
   "cell_type": "markdown",
   "metadata": {},
   "source": [
    "![title](assets/mnist.png)"
   ]
  },
  {
   "cell_type": "markdown",
   "metadata": {},
   "source": [
    "In this notebook, we will identify digits from a dataset of tens of thousands of handwritten images, by utilizing convolutional neural networks (CNN). [MNIST handwritten digit dataset](https://www.kaggle.com/c/digit-recognizer/data) is used to train and test the CNN model.\n",
    "\n",
    "We break this notebook into separate steps.  \n",
    "\n",
    "* [Step 1](#step1): Import Datasets\n",
    "* [Step 2](#step2): Specify Data Loaders for the Image Dataset\n",
    "* [Step 3](#step3): Define Model Architecture\n",
    "* [Step 4](#step4): Specify Loss Function and Optimizer\n",
    "* [Step 5](#step5): Train and Validate the Model\n",
    "* [Step 6](#step6): Test the Model\n",
    "\n",
    "Before moving to the next section, we need to import all packages required to do the analysis by calling the following:"
   ]
  },
  {
   "cell_type": "code",
   "execution_count": 3,
   "metadata": {
    "collapsed": true
   },
   "outputs": [
    {
     "ename": "ModuleNotFoundError",
     "evalue": "No module named 'pandas'",
     "output_type": "error",
     "traceback": [
      "\u001b[1;31m---------------------------------------------------------------------------\u001b[0m",
      "\u001b[1;31mModuleNotFoundError\u001b[0m                       Traceback (most recent call last)",
      "\u001b[1;32md:\\deep learning project\\CNN-Digit-Recognizer-master\\digit_recognizer.ipynb Cell 4\u001b[0m line \u001b[0;36m2\n\u001b[0;32m      <a href='vscode-notebook-cell:/d%3A/deep%20learning%20project/CNN-Digit-Recognizer-master/digit_recognizer.ipynb#W3sZmlsZQ%3D%3D?line=0'>1</a>\u001b[0m \u001b[39m# Data analysis packages\u001b[39;00m\n\u001b[1;32m----> <a href='vscode-notebook-cell:/d%3A/deep%20learning%20project/CNN-Digit-Recognizer-master/digit_recognizer.ipynb#W3sZmlsZQ%3D%3D?line=1'>2</a>\u001b[0m \u001b[39mimport\u001b[39;00m \u001b[39mpandas\u001b[39;00m \u001b[39mas\u001b[39;00m \u001b[39mpd\u001b[39;00m\n\u001b[0;32m      <a href='vscode-notebook-cell:/d%3A/deep%20learning%20project/CNN-Digit-Recognizer-master/digit_recognizer.ipynb#W3sZmlsZQ%3D%3D?line=2'>3</a>\u001b[0m \u001b[39mimport\u001b[39;00m \u001b[39mnumpy\u001b[39;00m \u001b[39mas\u001b[39;00m \u001b[39mnp\u001b[39;00m\n\u001b[0;32m      <a href='vscode-notebook-cell:/d%3A/deep%20learning%20project/CNN-Digit-Recognizer-master/digit_recognizer.ipynb#W3sZmlsZQ%3D%3D?line=3'>4</a>\u001b[0m \u001b[39mfrom\u001b[39;00m \u001b[39msklearn\u001b[39;00m\u001b[39m.\u001b[39;00m\u001b[39mmodel_selection\u001b[39;00m \u001b[39mimport\u001b[39;00m train_test_split\n",
      "\u001b[1;31mModuleNotFoundError\u001b[0m: No module named 'pandas'"
     ]
    }
   ],
   "source": [
    "# Data analysis packages\n",
    "import pandas as pd\n",
    "import numpy as np\n",
    "from sklearn.model_selection import train_test_split\n",
    "\n",
    "# Data visualizaiton packages\n",
    "import matplotlib.pyplot as plt\n",
    "%matplotlib inline \n",
    "\n",
    "# Deep learning packages\n",
    "import torch\n",
    "import torch.nn as nn\n",
    "import torch.optim as optim\n",
    "import torch.nn.functional as F\n",
    "import torch.utils.data as data_utils\n",
    "import torchvision.transforms as transforms\n",
    "from torchvision import datasets"
   ]
  },
  {
   "cell_type": "markdown",
   "metadata": {},
   "source": [
    "---\n",
    "<a id='step1'></a>\n",
    "## Step 1: Import Datasets\n",
    "[MNIST handwritten digit dataset](https://www.kaggle.com/c/digit-recognizer/data) is used to train and test the CNN model. We also perform a grayscale normalization to reduce the effect of illumination's differences."
   ]
  },
  {
   "cell_type": "code",
   "execution_count": 11,
   "metadata": {},
   "outputs": [
    {
     "name": "stdout",
     "output_type": "stream",
     "text": [
      "Image shape: (42000, 784)\n",
      "Labels shape: (42000,)\n"
     ]
    }
   ],
   "source": [
    "# Import datasets\n",
    "df = pd.read_csv('data/train.csv', dtype=np.float32)\n",
    "labels = df['label'].values\n",
    "img = df.drop(labels='label', axis=1).values / 255 # Normalization\n",
    "\n",
    "# Show the shape of the dataset\n",
    "print(\"Image shape: {}\".format(img.shape))\n",
    "print(\"Labels shape: {}\".format(labels.shape))"
   ]
  },
  {
   "cell_type": "markdown",
   "metadata": {},
   "source": [
    "---\n",
    "<a id='step2'></a>\n",
    "## Step 2: Specify Data Loaders for the Image Dataset\n",
    "The images (28px x 28px) has been stocked into pandas dataframe as 1D vectors of 784 values. We reshape all data to 28x28 matrices. PyTorch requires an extra dimension in the beginning, which correspond to channels. MNIST images are gray scaled so it use only one channel. For RGB images, there is 3 channels, we would have reshaped 784px vectors to 3x28x28 3D matrices."
   ]
  },
  {
   "cell_type": "code",
   "execution_count": 12,
   "metadata": {
    "collapsed": true
   },
   "outputs": [],
   "source": [
    "# Reshape images\n",
    "img = img.reshape(-1, 1, 28, 28)"
   ]
  },
  {
   "cell_type": "markdown",
   "metadata": {},
   "source": [
    "Then, we split the train set in three parts : \n",
    "- 60% of the dataset become the train set\n",
    "- 20% of the dataset become the validation set\n",
    "- 20% of the dataset become the test set"
   ]
  },
  {
   "cell_type": "code",
   "execution_count": 13,
   "metadata": {
    "collapsed": true
   },
   "outputs": [],
   "source": [
    "# Split dataset into train and validation/test set\n",
    "img_train, img_val_test, labels_train, labels_val_test = train_test_split(img, \n",
    "                                                                          labels, \n",
    "                                                                          test_size=0.4, \n",
    "                                                                          random_state=42,\n",
    "                                                                          stratify=labels)\n",
    "\n",
    "# Split validation/test set into validation and test set\n",
    "img_val, img_test, labels_val, labels_test = train_test_split(img_val_test, \n",
    "                                                              labels_val_test, \n",
    "                                                              test_size=0.5, \n",
    "                                                              random_state=42,\n",
    "                                                              stratify=labels_val_test)"
   ]
  },
  {
   "cell_type": "markdown",
   "metadata": {},
   "source": [
    "We use the code cell below to write three separate [data loaders](http://pytorch.org/docs/stable/data.html#torch.utils.data.DataLoader) for the training, validation, and test datasets of digit images. "
   ]
  },
  {
   "cell_type": "code",
   "execution_count": 14,
   "metadata": {
    "collapsed": true
   },
   "outputs": [],
   "source": [
    "# Define batch_size, epoch and iteration\n",
    "batch_size = 100\n",
    "n_iters = 2000\n",
    "num_epochs = n_iters / (len(img_train) / batch_size)\n",
    "num_epochs = int(num_epochs)\n",
    "\n",
    "#---------------------------------------------------------------------------------------------------------------\n",
    "\n",
    "# Convert train set to tensors\n",
    "img_train = torch.from_numpy(img_train)\n",
    "labels_train = torch.from_numpy(labels_train).type(torch.LongTensor)\n",
    "\n",
    "# Convert validation set to tensors\n",
    "img_val = torch.from_numpy(img_val)\n",
    "labels_val = torch.from_numpy(labels_val).type(torch.LongTensor)\n",
    "\n",
    "# Convert test set to tensors\n",
    "img_test = torch.from_numpy(img_test)\n",
    "labels_test = torch.from_numpy(labels_test).type(torch.LongTensor)\n",
    "\n",
    "#---------------------------------------------------------------------------------------------------------------\n",
    "\n",
    "# Define Pytorch train and validation set\n",
    "train = data_utils.TensorDataset(img_train, labels_train)\n",
    "val = data_utils.TensorDataset(img_val, labels_val)\n",
    "test = data_utils.TensorDataset(img_test, labels_test)\n",
    "\n",
    "#---------------------------------------------------------------------------------------------------------------\n",
    "\n",
    "# Define data loader\n",
    "train_loader = data_utils.DataLoader(train, \n",
    "                                     batch_size=batch_size, \n",
    "                                     shuffle=True, num_workers=16)\n",
    "valid_loader = data_utils.DataLoader(val, \n",
    "                                     batch_size=batch_size, \n",
    "                                     shuffle=True, num_workers=16)\n",
    "test_loader = data_utils.DataLoader(test, \n",
    "                                    batch_size=batch_size, \n",
    "                                    shuffle=True, num_workers=16)\n",
    "\n",
    "loaders = {'train': train_loader,\n",
    "           'valid': valid_loader,\n",
    "           'test': test_loader}"
   ]
  },
  {
   "cell_type": "markdown",
   "metadata": {},
   "source": [
    "---\n",
    "<a id='step3'></a>\n",
    "## Step 3: Define Model Architecture\n",
    "In our CNN architecture, the first layer has input shape of (28, 28, 1) and the last layer should output 10 classes. In the first two convolutional layers, we choose to set 32 filters with `kernel_size` of 5. After these layers, the data is downsampled by using a max pooling layer with stride of 1. The next two convolutional layers have 64 filters with `kernel_size` of 3. Then, the data is downsampled by using a max pooling layer with stride of 2.\n",
    "\n",
    "We have applied dropout of 0.5. Dropout is a regularization method, where a proportion of nodes in the layer are randomly ignored (setting their wieghts to zero) for each training sample. This drops randomly a propotion of the network and forces the network to learn features in a distributed way. This technique also improves generalization and reduces the overfitting. \n",
    "\n",
    "We use 'ReLu' as our activation function. ReLu is used to add non linearity to the network.\n",
    "\n",
    "Fully-connected layer is placed at the end of the network. It combines all the found local features of the previous convolutional layers. Then, the 2nd fully-connected layer is intended to produce final output size, which predicts classes."
   ]
  },
  {
   "cell_type": "code",
   "execution_count": 15,
   "metadata": {},
   "outputs": [
    {
     "name": "stdout",
     "output_type": "stream",
     "text": [
      "Net(\n",
      "  (conv1): Conv2d(1, 32, kernel_size=(5, 5), stride=(1, 1), padding=(1, 1))\n",
      "  (conv2): Conv2d(32, 32, kernel_size=(5, 5), stride=(1, 1), padding=(1, 1))\n",
      "  (conv3): Conv2d(32, 64, kernel_size=(3, 3), stride=(1, 1), padding=(1, 1))\n",
      "  (conv4): Conv2d(64, 64, kernel_size=(3, 3), stride=(1, 1), padding=(1, 1))\n",
      "  (pool1): MaxPool2d(kernel_size=2, stride=1, padding=0, dilation=1, ceil_mode=False)\n",
      "  (pool2): MaxPool2d(kernel_size=2, stride=2, padding=0, dilation=1, ceil_mode=False)\n",
      "  (fc1): Linear(in_features=7744, out_features=2048, bias=True)\n",
      "  (fc2): Linear(in_features=2048, out_features=10, bias=True)\n",
      "  (dropout): Dropout(p=0.5)\n",
      ")\n"
     ]
    }
   ],
   "source": [
    "num_classes = 10\n",
    "\n",
    "# check if CUDA is available\n",
    "use_cuda = torch.cuda.is_available()\n",
    "\n",
    "# Define the CNN architecture\n",
    "class Net(nn.Module):\n",
    "    def __init__(self):\n",
    "        super(Net, self).__init__()\n",
    "        ## Define layers of a CNN\n",
    "        self.conv1 = nn.Conv2d(in_channels=1, out_channels=32, kernel_size=5, padding=1)\n",
    "        self.conv2 = nn.Conv2d(in_channels=32, out_channels=32, kernel_size=5, padding=1)\n",
    "        self.conv3 = nn.Conv2d(in_channels=32, out_channels=64, kernel_size=3, padding=1)\n",
    "        self.conv4 = nn.Conv2d(in_channels=64, out_channels=64, kernel_size=3, padding=1)\n",
    "        self.pool1 = nn.MaxPool2d(kernel_size=2, stride=1)\n",
    "        self.pool2 = nn.MaxPool2d(kernel_size=2, stride=2) \n",
    "        self.fc1 = nn.Linear(64 * 11 * 11, 2048)\n",
    "        self.fc2 = nn.Linear(2048, num_classes) \n",
    "        self.dropout = nn.Dropout(0.5)\n",
    "    \n",
    "    def forward(self, x):\n",
    "        ## Define forward behavior\n",
    "        x = self.conv1(x)\n",
    "        x = self.pool1(F.relu(self.conv2(x)))\n",
    "        x = self.dropout(x)\n",
    "        x = self.conv3(x)\n",
    "        x = self.pool2(F.relu(self.conv4(x)))\n",
    "        x = self.dropout(x)\n",
    "        #print(x.shape)\n",
    "        x = x.view(-1, 64 * 11 * 11)\n",
    "        x = self.dropout(x)\n",
    "        x = F.relu(self.fc1(x))\n",
    "        x = self.dropout(x)\n",
    "        x = self.fc2(x)\n",
    "        return x\n",
    "\n",
    "# instantiate the CNN\n",
    "model = Net()\n",
    "\n",
    "# move tensors to GPU if CUDA is available\n",
    "if use_cuda:\n",
    "    model.cuda()\n",
    "\n",
    "print(model)"
   ]
  },
  {
   "cell_type": "markdown",
   "metadata": {},
   "source": [
    "---\n",
    "<a id='step4'></a>\n",
    "## Step 4: Specify Loss Function and Optimizer\n",
    "We use `CrossEntropyLoss` as our loss function and `RMSprop` as our optimizer."
   ]
  },
  {
   "cell_type": "code",
   "execution_count": 16,
   "metadata": {
    "collapsed": true
   },
   "outputs": [],
   "source": [
    "### Define loss function\n",
    "criterion = nn.CrossEntropyLoss()\n",
    "\n",
    "### Define optimizer\n",
    "optimizer = optim.RMSprop(model.parameters(), \n",
    "                                  lr=0.001, \n",
    "                                  alpha=0.9, \n",
    "                                  eps=1e-08, \n",
    "                                  weight_decay=0.0001)"
   ]
  },
  {
   "cell_type": "markdown",
   "metadata": {},
   "source": [
    "---\n",
    "<a id='step5'></a>\n",
    "## Step 5: Train and Validate the Model\n",
    "We [save the final model parameters](http://pytorch.org/docs/master/notes/serialization.html) at filepath `'cnn_digit_recognizer.pt'`."
   ]
  },
  {
   "cell_type": "code",
   "execution_count": 17,
   "metadata": {
    "collapsed": true
   },
   "outputs": [],
   "source": [
    "# The following import is required for training to be robust to truncated images\n",
    "from PIL import ImageFile\n",
    "ImageFile.LOAD_TRUNCATED_IMAGES = True\n",
    "\n",
    "def train(n_epochs, loaders, model, optimizer, criterion, use_cuda, save_path):\n",
    "    \"\"\"returns trained model\"\"\"\n",
    "    # initialize tracker for minimum validation loss\n",
    "    valid_loss_min = np.Inf\n",
    "    loss_list = []\n",
    "    epoch_list = []\n",
    "    \n",
    "    for epoch in range(1, n_epochs+1):\n",
    "        # initialize variables to monitor training and validation loss\n",
    "        train_loss = 0.0\n",
    "        valid_loss = 0.0\n",
    "        \n",
    "        ###################\n",
    "        # train the model #\n",
    "        ###################\n",
    "        model.train()\n",
    "        for batch_idx, (data, target) in enumerate(loaders['train']):\n",
    "            # move to GPU\n",
    "            if use_cuda:\n",
    "                data, target = data.cuda(), target.cuda()\n",
    "            ## find the loss and update the model parameters accordingly\n",
    "            optimizer.zero_grad()\n",
    "            output = model(data)\n",
    "            loss = criterion(output, target)\n",
    "            loss.backward()\n",
    "            optimizer.step()\n",
    "            train_loss = train_loss + ((1 / (batch_idx + 1)) * (loss.data - train_loss))\n",
    "            \n",
    "        ######################    \n",
    "        # validate the model #\n",
    "        ######################\n",
    "        model.eval()\n",
    "        for batch_idx, (data, target) in enumerate(loaders['valid']):\n",
    "            # move to GPU\n",
    "            if use_cuda:\n",
    "                data, target = data.cuda(), target.cuda()\n",
    "            ## update the average validation loss\n",
    "            output = model(data)\n",
    "            loss = criterion(output, target)\n",
    "            valid_loss = valid_loss + ((1 / (batch_idx + 1)) * (loss.data - valid_loss))\n",
    "\n",
    "            \n",
    "        # print training/validation statistics \n",
    "        print('Epoch: {} \\tTraining Loss: {:.6f} \\tValidation Loss: {:.6f}'.format(\n",
    "            epoch, \n",
    "            train_loss,\n",
    "            valid_loss\n",
    "            ))\n",
    "        \n",
    "        ## Save the model if validation loss has decreased\n",
    "        if valid_loss < valid_loss_min:\n",
    "            print('Validation loss decreased ({:.6f} --> {:.6f}).  Saving model ...'.format(valid_loss_min, valid_loss))\n",
    "            torch.save(model.state_dict(), save_path)\n",
    "            valid_loss_min = valid_loss\n",
    "            \n",
    "    # return trained model\n",
    "    return model"
   ]
  },
  {
   "cell_type": "code",
   "execution_count": 18,
   "metadata": {},
   "outputs": [
    {
     "name": "stdout",
     "output_type": "stream",
     "text": [
      "Epoch: 1 \tTraining Loss: 0.385877 \tValidation Loss: 0.121577\n",
      "Validation loss decreased (inf --> 0.121577).  Saving model ...\n",
      "Epoch: 2 \tTraining Loss: 0.139635 \tValidation Loss: 0.070934\n",
      "Validation loss decreased (0.121577 --> 0.070934).  Saving model ...\n",
      "Epoch: 3 \tTraining Loss: 0.122056 \tValidation Loss: 0.074650\n",
      "Epoch: 4 \tTraining Loss: 0.117830 \tValidation Loss: 0.089532\n",
      "Epoch: 5 \tTraining Loss: 0.118097 \tValidation Loss: 0.069858\n",
      "Validation loss decreased (0.070934 --> 0.069858).  Saving model ...\n",
      "Epoch: 6 \tTraining Loss: 0.111873 \tValidation Loss: 0.124239\n",
      "Epoch: 7 \tTraining Loss: 0.110335 \tValidation Loss: 0.067964\n",
      "Validation loss decreased (0.069858 --> 0.067964).  Saving model ...\n",
      "Epoch: 8 \tTraining Loss: 0.102659 \tValidation Loss: 0.072183\n",
      "Epoch: 9 \tTraining Loss: 0.107836 \tValidation Loss: 0.070678\n",
      "Epoch: 10 \tTraining Loss: 0.104341 \tValidation Loss: 0.065509\n",
      "Validation loss decreased (0.067964 --> 0.065509).  Saving model ...\n",
      "Epoch: 11 \tTraining Loss: 0.104885 \tValidation Loss: 0.084792\n",
      "Epoch: 12 \tTraining Loss: 0.104520 \tValidation Loss: 0.054289\n",
      "Validation loss decreased (0.065509 --> 0.054289).  Saving model ...\n",
      "Epoch: 13 \tTraining Loss: 0.106377 \tValidation Loss: 0.067225\n",
      "Epoch: 14 \tTraining Loss: 0.093840 \tValidation Loss: 0.054075\n",
      "Validation loss decreased (0.054289 --> 0.054075).  Saving model ...\n",
      "Epoch: 15 \tTraining Loss: 0.103423 \tValidation Loss: 0.091325\n",
      "Epoch: 16 \tTraining Loss: 0.096374 \tValidation Loss: 0.059280\n",
      "Epoch: 17 \tTraining Loss: 0.097545 \tValidation Loss: 0.087232\n",
      "Epoch: 18 \tTraining Loss: 0.096278 \tValidation Loss: 0.115145\n",
      "Epoch: 19 \tTraining Loss: 0.092485 \tValidation Loss: 0.055406\n",
      "Epoch: 20 \tTraining Loss: 0.096590 \tValidation Loss: 0.080501\n",
      "Epoch: 21 \tTraining Loss: 0.093170 \tValidation Loss: 0.046434\n",
      "Validation loss decreased (0.054075 --> 0.046434).  Saving model ...\n",
      "Epoch: 22 \tTraining Loss: 0.098416 \tValidation Loss: 0.060400\n",
      "Epoch: 23 \tTraining Loss: 0.092794 \tValidation Loss: 0.078424\n",
      "Epoch: 24 \tTraining Loss: 0.088741 \tValidation Loss: 0.128129\n",
      "Epoch: 25 \tTraining Loss: 0.090808 \tValidation Loss: 0.094697\n",
      "Epoch: 26 \tTraining Loss: 0.085207 \tValidation Loss: 0.066789\n",
      "Epoch: 27 \tTraining Loss: 0.091125 \tValidation Loss: 0.079907\n",
      "Epoch: 28 \tTraining Loss: 0.088407 \tValidation Loss: 0.071867\n",
      "Epoch: 29 \tTraining Loss: 0.095062 \tValidation Loss: 0.067375\n",
      "Epoch: 30 \tTraining Loss: 0.091764 \tValidation Loss: 0.061416\n"
     ]
    }
   ],
   "source": [
    "# Train the model\n",
    "model = train(30, loaders, model, optimizer, \n",
    "              criterion, use_cuda, 'cnn_digit_recognizer.pt')"
   ]
  },
  {
   "cell_type": "markdown",
   "metadata": {},
   "source": [
    "---\n",
    "<a id='step6'></a>\n",
    "## Step 6: Test the Model\n",
    "We try out your model on the test dataset.  We use the code cell below to calculate and print the test loss and accuracy."
   ]
  },
  {
   "cell_type": "code",
   "execution_count": 19,
   "metadata": {},
   "outputs": [
    {
     "data": {
      "text/plain": [
       "IncompatibleKeys(missing_keys=[], unexpected_keys=[])"
      ]
     },
     "execution_count": 19,
     "metadata": {},
     "output_type": "execute_result"
    }
   ],
   "source": [
    "# Load the model that got the best validation accuracy\n",
    "model.load_state_dict(torch.load('cnn_digit_recognizer.pt'))"
   ]
  },
  {
   "cell_type": "code",
   "execution_count": 20,
   "metadata": {},
   "outputs": [
    {
     "name": "stdout",
     "output_type": "stream",
     "text": [
      "Test Loss: 0.041995\n",
      "\n",
      "\n",
      "Test Accuracy: 98% (8301/8400)\n"
     ]
    }
   ],
   "source": [
    "def test(loaders, model, criterion, use_cuda):\n",
    "\n",
    "    # monitor test loss and accuracy\n",
    "    test_loss = 0.\n",
    "    correct = 0.\n",
    "    total = 0.\n",
    "\n",
    "    model.eval()\n",
    "    for batch_idx, (data, target) in enumerate(loaders['test']):\n",
    "        # move to GPU\n",
    "        if use_cuda:\n",
    "            data, target = data.cuda(), target.cuda()\n",
    "        # forward pass: compute predicted outputs by passing inputs to the model\n",
    "        output = model(data)\n",
    "        # calculate the loss\n",
    "        loss = criterion(output, target)\n",
    "        # update average test loss \n",
    "        test_loss = test_loss + ((1 / (batch_idx + 1)) * (loss.data - test_loss))\n",
    "        # convert output probabilities to predicted class\n",
    "        pred = output.data.max(1, keepdim=True)[1]\n",
    "        # compare predictions to true label\n",
    "        correct += np.sum(np.squeeze(pred.eq(target.data.view_as(pred))).cpu().numpy())\n",
    "        total += data.size(0)\n",
    "            \n",
    "    print('Test Loss: {:.6f}\\n'.format(test_loss))\n",
    "\n",
    "    print('\\nTest Accuracy: %2d%% (%2d/%2d)' % (\n",
    "        100. * correct / total, correct, total))\n",
    "\n",
    "# call test function    \n",
    "test(loaders, model, criterion, use_cuda)"
   ]
  },
  {
   "cell_type": "markdown",
   "metadata": {},
   "source": [
    "### Visualize Sample Test Results"
   ]
  },
  {
   "cell_type": "code",
   "execution_count": 21,
   "metadata": {
    "collapsed": true
   },
   "outputs": [],
   "source": [
    "# helper function to un-normalize and display an image\n",
    "def imshow(img):\n",
    "    img = img.numpy() * 255  # unnormalize and convert from Tensor image\n",
    "    plt.imshow(img[0])  # show image"
   ]
  },
  {
   "cell_type": "code",
   "execution_count": 22,
   "metadata": {},
   "outputs": [
    {
     "data": {
      "image/png": "[encoded data removed]",
      "text/plain": [
       "<Figure size 1440x360 with 10 Axes>"
      ]
     },
     "metadata": {},
     "output_type": "display_data"
    }
   ],
   "source": [
    "classes = ['0', '1', '2', '3', '4',\n",
    "           '5', '6', '7', '8', '9']\n",
    "\n",
    "# obtain one batch of test images\n",
    "dataiter = iter(test_loader)\n",
    "images, labels = dataiter.next()\n",
    "images.numpy()\n",
    "\n",
    "# move model inputs to cuda, if GPU available\n",
    "if use_cuda:\n",
    "    images = images.cuda()\n",
    "\n",
    "# get sample outputs\n",
    "output = model(images)\n",
    "# convert output probabilities to predicted class\n",
    "_, preds_tensor = torch.max(output, 1)\n",
    "preds = np.squeeze(preds_tensor.numpy()) if not use_cuda else np.squeeze(preds_tensor.cpu().numpy())\n",
    "\n",
    "# plot the images in the batch, along with predicted and true labels\n",
    "fig = plt.figure(figsize=(20, 5))\n",
    "for idx in np.arange(10):\n",
    "    ax = fig.add_subplot(2, 10/2, idx+1, xticks=[], yticks=[])\n",
    "    imshow(images.cpu()[idx])\n",
    "    ax.set_title(\"Predicted: {} - Actual: {}\".format(classes[preds[idx]], classes[labels[idx]]),\n",
    "                 color=(\"green\" if preds[idx]==labels[idx].item() else \"red\"))"
   ]
  }
 ],
 "metadata": {
  "kernelspec": {
   "display_name": "Python 3",
   "language": "python",
   "name": "python3"
  },
  "language_info": {
   "codemirror_mode": {
    "name": "ipython",
    "version": 3
   },
   "file_extension": ".py",
   "mimetype": "text/x-python",
   "name": "python",
   "nbconvert_exporter": "python",
   "pygments_lexer": "ipython3",
   "version": "3.11.0"
  }
 },
 "nbformat": 4,
 "nbformat_minor": 2
}
